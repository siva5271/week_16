{
 "cells": [
  {
   "cell_type": "code",
   "execution_count": 2,
   "id": "c2387148",
   "metadata": {},
   "outputs": [],
   "source": [
    "import nltk\n",
    "from nltk.stem import PorterStemmer\n",
    "from nltk.tokenize import word_tokenize"
   ]
  },
  {
   "cell_type": "code",
   "execution_count": 3,
   "id": "39d3b744",
   "metadata": {},
   "outputs": [
    {
     "data": {
      "text/plain": [
       "['Keep',\n",
       " 'in',\n",
       " 'mind',\n",
       " 'that',\n",
       " 'stemming',\n",
       " 'can',\n",
       " 'sometimes',\n",
       " 'result',\n",
       " 'in',\n",
       " 'non-words',\n",
       " 'or',\n",
       " 'words',\n",
       " 'that',\n",
       " 'are',\n",
       " 'not',\n",
       " 'recognizable',\n",
       " 'in',\n",
       " 'context',\n",
       " '.',\n",
       " 'For',\n",
       " 'more',\n",
       " 'advanced',\n",
       " 'text',\n",
       " 'normalization',\n",
       " 'tasks',\n",
       " ',',\n",
       " 'you',\n",
       " 'might',\n",
       " 'consider',\n",
       " 'using',\n",
       " 'lemmatization',\n",
       " ',',\n",
       " 'which',\n",
       " 'produces',\n",
       " 'valid',\n",
       " 'words',\n",
       " 'based',\n",
       " 'on',\n",
       " 'their',\n",
       " 'lemma',\n",
       " 'or',\n",
       " 'base',\n",
       " 'form',\n",
       " '.']"
      ]
     },
     "execution_count": 3,
     "metadata": {},
     "output_type": "execute_result"
    }
   ],
   "source": [
    "txt='Keep in mind that stemming can sometimes result in non-words or words that are not recognizable in context. For more advanced text normalization tasks, you might consider using lemmatization, which produces valid words based on their lemma or base form.'\n",
    "words=word_tokenize(txt)\n",
    "words"
   ]
  },
  {
   "cell_type": "code",
   "execution_count": 4,
   "id": "2f96cfa1",
   "metadata": {},
   "outputs": [
    {
     "data": {
      "text/plain": [
       "['keep',\n",
       " 'in',\n",
       " 'mind',\n",
       " 'that',\n",
       " 'stem',\n",
       " 'can',\n",
       " 'sometim',\n",
       " 'result',\n",
       " 'in',\n",
       " 'non-word',\n",
       " 'or',\n",
       " 'word',\n",
       " 'that',\n",
       " 'are',\n",
       " 'not',\n",
       " 'recogniz',\n",
       " 'in',\n",
       " 'context',\n",
       " '.',\n",
       " 'for',\n",
       " 'more',\n",
       " 'advanc',\n",
       " 'text',\n",
       " 'normal',\n",
       " 'task',\n",
       " ',',\n",
       " 'you',\n",
       " 'might',\n",
       " 'consid',\n",
       " 'use',\n",
       " 'lemmat',\n",
       " ',',\n",
       " 'which',\n",
       " 'produc',\n",
       " 'valid',\n",
       " 'word',\n",
       " 'base',\n",
       " 'on',\n",
       " 'their',\n",
       " 'lemma',\n",
       " 'or',\n",
       " 'base',\n",
       " 'form',\n",
       " '.']"
      ]
     },
     "execution_count": 4,
     "metadata": {},
     "output_type": "execute_result"
    }
   ],
   "source": [
    "stemmer =PorterStemmer()\n",
    "stemmed_words=[]\n",
    "for x in words:\n",
    "    stemmed_words.append(stemmer.stem(x))\n",
    "stemmed_words"
   ]
  }
 ],
 "metadata": {
  "kernelspec": {
   "display_name": "Python 3 (ipykernel)",
   "language": "python",
   "name": "python3"
  },
  "language_info": {
   "codemirror_mode": {
    "name": "ipython",
    "version": 3
   },
   "file_extension": ".py",
   "mimetype": "text/x-python",
   "name": "python",
   "nbconvert_exporter": "python",
   "pygments_lexer": "ipython3",
   "version": "3.10.9"
  }
 },
 "nbformat": 4,
 "nbformat_minor": 5
}
